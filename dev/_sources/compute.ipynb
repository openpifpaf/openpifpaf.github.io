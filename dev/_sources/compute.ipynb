{
 "cells": [
  {
   "cell_type": "markdown",
   "metadata": {},
   "source": [
    "# Compute\n",
    "\n",
    "We aim to support local, ssh, cloud and HPC environments.\n",
    "\n",
    "## SSH \n",
    "\n",
    "Use `tmux` for long-running sessions.\n",
    "\n",
    "## Google Colab\n",
    "\n",
    "Not very performant, but enough to run benchmarks.\n",
    "For an example, see this \n",
    "[eval_coco notebook](https://colab.research.google.com/drive/1UofTjuRE6eM_ZdkLMLJD4Jh5VCarOH6E?usp=sharing)\n",
    "that runs a full COCO keypoint benchmark.\n",
    "\n",
    "## Google Cloud\n",
    "\n",
    "This gives you a V100 GPU to benchmark OpenPifPaf. You can ssh into\n",
    "the box directly and use `tmux`. Not all regions/zones support \n",
    "[recent GPUs](https://cloud.google.com/compute/docs/gpus/gpu-regions-zones).\n",
    "\n",
    "```sh\n",
    "gcloud compute instances create instance-2 \\\n",
    "  --zone=europe-west4-a \\\n",
    "  --image-family=pytorch-latest-gpu \\\n",
    "  --image-project=deeplearning-platform-release \\\n",
    "  --machine-type=n1-standard-4 \\\n",
    "  --maintenance-policy=TERMINATE \\\n",
    "  --accelerator=\"type=nvidia-tesla-v100,count=1\" \\\n",
    "  --metadata=\"install-nvidia-driver=True\" \\\n",
    "  --preemptible\n",
    "```\n",
    "\n",
    "## HPC\n",
    "\n",
    "See {doc}`train` document."
   ]
  }
 ],
 "metadata": {
  "language_info": {
   "name": "python"
  }
 },
 "nbformat": 4,
 "nbformat_minor": 2
}
